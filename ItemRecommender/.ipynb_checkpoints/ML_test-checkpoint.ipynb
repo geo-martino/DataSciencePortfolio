{
 "cells": [
  {
   "cell_type": "markdown",
   "metadata": {},
   "source": [
    "# Recommending Top-N movies - Testing recommendation algorithms"
   ]
  },
  {
   "cell_type": "markdown",
   "metadata": {},
   "source": [
    "- Jupyter notebook comments\n",
    "- InLine comments (+TTT)\n",
    "- Add conclusion to TTT (improvements to formula used, rerunning parameter tests with variation in each parameter, player 2 doesn't recognise when to block player 1 moves so add a fudge factor to move selector for this etc.)"
   ]
  },
  {
   "cell_type": "code",
   "execution_count": 1,
   "metadata": {},
   "outputs": [],
   "source": [
    "import pandas as pd\n",
    "import numpy as np\n",
    "import seaborn as sns\n",
    "import matplotlib.pyplot as plt\n",
    "from IPython.display import display\n",
    "from time import perf_counter\n",
    "from MovieLensData import MovieLensData\n",
    "from SplitData import SplitData\n",
    "from tqdm.auto import tqdm\n",
    "import sys\n",
    "import importlib\n",
    "import EvaluateResults\n",
    "import Algorithms\n",
    "import Tester\n",
    "\n",
    "import warnings\n",
    "warnings.filterwarnings('ignore')"
   ]
  },
  {
   "cell_type": "code",
   "execution_count": 2,
   "metadata": {},
   "outputs": [
    {
     "name": "stdout",
     "output_type": "stream",
     "text": [
      "Loading data...\u001b[92m Done \u001b[0m\n",
      "Building movies/ratings pivot df...\u001b[92m Done \u001b[0m\n",
      "\u001b[94m2782 / 283228 users retained (0.98%)\u001b[0m\n",
      "\u001b[94m3931 / 58098 movies retained (6.77%)\u001b[0m\n",
      "\u001b[94m3161737 / 27753444 ratings retained (11.39%)\u001b[0m\n",
      "\u001b[94m71.09% sparsity\u001b[0m\n"
     ]
    }
   ],
   "source": [
    "ml = MovieLensData()\n",
    "userIDs = ml.filterIDs('userId', minRatings=1000)\n",
    "movieIDs = ml.filterIDs('movieId', minRatings=1000)\n",
    "ml.reduce(userIDs, 'userId', 'ratings')\n",
    "ml.reduce(movieIDs, 'movieId', 'movies')\n",
    "\n",
    "ratingsData = ml.buildPivot(printStats=True)"
   ]
  },
  {
   "cell_type": "code",
   "execution_count": 3,
   "metadata": {},
   "outputs": [
    {
     "name": "stdout",
     "output_type": "stream",
     "text": [
      "Building train/test/validation split by row...\u001b[92m Done \u001b[0m\n",
      "Building LeaveOneOut-CrossValidation data...\u001b[92m Done \u001b[0m\n"
     ]
    }
   ],
   "source": [
    "train, test, validation, LOO = SplitData(ratingsData).buildAll(testSize=0.2, validationSize=0.2, randomState=20)"
   ]
  },
  {
   "cell_type": "code",
   "execution_count": 4,
   "metadata": {
    "scrolled": true
   },
   "outputs": [
    {
     "name": "stdout",
     "output_type": "stream",
     "text": [
      "Building sparse matrix...\u001b[92m Done \u001b[0m\n",
      "Correlating ratings for all users...\u001b[92m Done \u001b[0m\n",
      "Correlating ratings for all movies...\u001b[92m Done \u001b[0m\n",
      "Correlating genres for all movies...\u001b[92m Done \u001b[0m\n",
      "Correlating years for all movies...\u001b[92m Done \u001b[0m\n",
      "Generating combined correlation...\u001b[92m Done \u001b[0m\n"
     ]
    }
   ],
   "source": [
    "algo = Algorithms.Algorithms(ml, train, test)\n",
    "algo.buildMatrix()\n",
    "CF_itemModel, CF_userModel = algo.buildModel(modelType='CF')\n",
    "KNN_itemModel = algo.buildModel(modelType='KNN', matrix=algo.userPivot_csr.transpose())\n",
    "KNN_userModel = algo.buildModel(modelType='KNN', matrix=algo.userPivot_csr)\n",
    "SVD_model = algo.buildModel(modelType='SVD', matrix=algo.userPivot_csr)"
   ]
  },
  {
   "cell_type": "code",
   "execution_count": null,
   "metadata": {
    "scrolled": false
   },
   "outputs": [],
   "source": [
    "evaluator = EvaluateResults.Metrics(validation, LOO, topN=10, moviesPerPage=5, thresholdRating=3.0, csvName='ML_RecommenderMetrics')\n",
    "tester = Tester.Tester(evaluator)\n",
    "\n",
    "neighbours = 100\n",
    "sample = 100\n",
    "\n",
    "tester.addAlgorithm('Item-Based CF', algo.itemBased, model=CF_itemModel, modelType='CF', neighbours=neighbours, sample=sample, pred='calc', buildTable=True)\n",
    "tester.addAlgorithm('User-Based CF', algo.userBased, model=CF_userModel, modelType='CF', neighbours=neighbours, sample=sample, pred='calc', buildTable=True)\n",
    "tester.addAlgorithm('Item-Based KNN', algo.itemBased, model=KNN_itemModel, modelType='KNN', neighbours=neighbours, sample=sample, pred='calc', buildTable=True)\n",
    "tester.addAlgorithm('User-Based KNN', algo.userBased, model=KNN_userModel, modelType='KNN', neighbours=neighbours, sample=sample, pred='calc', buildTable=True)\n",
    "tester.addAlgorithm('SVD', algo.SVD, model=SVD_model, buildTable=True)\n",
    "tester.addAlgorithm('Random Control', algo.random, randomRatings=True)\n",
    "\n",
    "tester.runBasicTest(test, sampleTest=10)"
   ]
  },
  {
   "cell_type": "code",
   "execution_count": null,
   "metadata": {},
   "outputs": [],
   "source": [
    "parameter = 'pred'\n",
    "pRange = ['rand', 'calc', 'sims', 'norm_sims']\n",
    "sample = 10\n",
    "\n",
    "tester.runParameterTest(test, param=parameter, pRange=pRange, sampleTest=sample, printResults=False)"
   ]
  }
 ],
 "metadata": {
  "kernelspec": {
   "display_name": "Python 3",
   "language": "python",
   "name": "python3"
  },
  "language_info": {
   "codemirror_mode": {
    "name": "ipython",
    "version": 3
   },
   "file_extension": ".py",
   "mimetype": "text/x-python",
   "name": "python",
   "nbconvert_exporter": "python",
   "pygments_lexer": "ipython3",
   "version": "3.8.8"
  }
 },
 "nbformat": 4,
 "nbformat_minor": 4
}
