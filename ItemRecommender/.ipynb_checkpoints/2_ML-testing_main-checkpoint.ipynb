{
 "cells": [
  {
   "cell_type": "markdown",
   "metadata": {},
   "source": [
    "# Recommending Top-N movies - Part 2/2 Testing recommendation algorithms"
   ]
  },
  {
   "cell_type": "markdown",
   "metadata": {},
   "source": [
    "In part 1 of this project, we looked at the MovieLens data set and implemented algorithms to recommend movies based off of this. We took a brief look at some of these algorithms parameters and differences in runtime. In this part of the project, we will use various metrics to test the accuracy and validity of the recommended movies using a train-test-validation split of the reduced data set.\n",
    "\n",
    "To do this we'll use three new classes: SplitData, Metrics, and Tester which split the ratings pivot data frame, run metrics on the recommendations, and run tests over multiple users respectively. More documentation for these classes can be found in the MovieLensData.py and Tester.py files, with further information on the algorithms in the Algorithms.py file."
   ]
  },
  {
   "cell_type": "markdown",
   "metadata": {},
   "source": [
    "---------------"
   ]
  },
  {
   "cell_type": "markdown",
   "metadata": {},
   "source": [
    "## Preparing the Data\n",
    "\n",
    "- Creating the ratings pivot data frame\n",
    "- Splitting the data for testing\n",
    "- Building the models"
   ]
  },
  {
   "cell_type": "markdown",
   "metadata": {},
   "source": [
    "We'll start by importing the required packages and building the ratings pivot data frame from a reduced set of data. As discussed in the part 1, we're sampling users with rating counts between 200-6000 and limiting movies to those with more than 100 ratings to avoid biases from outliers and to work within the constraints of computing power available. However, as the tests are very computationally intensive, I will initially be reducing this further by taking a random sample of 10% of the reduced userIDs."
   ]
  },
  {
   "cell_type": "code",
   "execution_count": 1,
   "metadata": {},
   "outputs": [],
   "source": [
    "import pandas as pd\n",
    "import numpy as np\n",
    "import seaborn as sns\n",
    "import matplotlib.pyplot as plt\n",
    "from IPython.display import display\n",
    "from time import perf_counter\n",
    "from tqdm.auto import tqdm\n",
    "import sys\n",
    "import importlib\n",
    "import random\n",
    "import MovieLensData\n",
    "import Algorithms\n",
    "import Tester\n",
    "\n",
    "import warnings\n",
    "warnings.filterwarnings('ignore')\n",
    "sns.set()"
   ]
  },
  {
   "cell_type": "code",
   "execution_count": 2,
   "metadata": {},
   "outputs": [
    {
     "name": "stdout",
     "output_type": "stream",
     "text": [
      "Loading data...\u001b[92m Done \u001b[0m\n",
      "Building movies/ratings pivot df...\u001b[92m Done \u001b[0m\n",
      "\u001b[94m3528 / 283228 users retained (1.25%)\u001b[0m\n",
      "\u001b[94m10498 / 58098 movies retained (18.07%)\u001b[0m\n",
      "\u001b[94m1661576 / 27753444 ratings retained (5.99%)\u001b[0m\n",
      "\u001b[94m95.51% sparsity\u001b[0m\n"
     ]
    }
   ],
   "source": [
    "ml = MovieLensData.MovieLensData()\n",
    "userIDs = ml.filterIDs('userId', minRatings=200, maxRatings=6000)\n",
    "movieIDs = ml.filterIDs('movieId', minRatings=100)\n",
    "userIDs = random.sample(userIDs, int(0.1 * len(userIDs)))\n",
    "ml.reduce(userIDs, 'userId', 'ratings')\n",
    "ml.reduce(movieIDs, 'movieId', 'movies')\n",
    "\n",
    "ratingsData = ml.buildPivot(printStats=True)"
   ]
  },
  {
   "cell_type": "markdown",
   "metadata": {},
   "source": [
    "The SplitData class splits up the ratings pivot data frame into a trainSet and testSet_full. testSet_full is then split in two ways: one into a a test-validation split where every user in testSet_full has a percentage or number of ratings split off into the validation set, and one that takes away just one rating from each user for leave-one-out (LOO) cross validation. The size of testSet_full and validation sets are governed by the testSize and validationSize parameters respectively. As the data is relatively large, we afford to keep more users in the train set, so 20% splits will be used for both the testSize and validationSize parameters.\n",
    "\n",
    "The ratings in the test set are used to generate recommendations, with the two validation sets used to check the quality of recommendations against various metrics. We can ensure the same splits occur each time via the randomState parameter for consistency in results reporting."
   ]
  },
  {
   "cell_type": "code",
   "execution_count": 3,
   "metadata": {},
   "outputs": [
    {
     "name": "stdout",
     "output_type": "stream",
     "text": [
      "Building train/test/validation split by row...\u001b[92m Done \u001b[0m\n",
      "Building LeaveOneOut-CrossValidation data...\u001b[92m Done \u001b[0m\n"
     ]
    }
   ],
   "source": [
    "train, test, validation, LOO = MovieLensData.SplitData(ratingsData).buildAll(testSize=0.2, \n",
    "                                                                             validationSize=0.2, randomState=20)"
   ]
  },
  {
   "cell_type": "markdown",
   "metadata": {},
   "source": [
    "As seen in the previous part, we can easily build each model by calling the buildModel method in the Algorithm class. This time, we initialise the method by passing the train and test set data so the program knows which set to build the model from, and which to use to look up ratings for testing. We will also need to call the buildMatrix method to generate the sparse matrix for building the KNN models.\n",
    "\n",
    "However, this time we will not need to generate a similarity matrix for the users. As these models are built off of the train set and we will not be testing any f the userIDs in this set, we do not need to build a user similarity matrix for the CF algorithm and can simply pass 'None' as the model parameter when testing this algorithm."
   ]
  },
  {
   "cell_type": "code",
   "execution_count": 4,
   "metadata": {
    "scrolled": true
   },
   "outputs": [
    {
     "name": "stdout",
     "output_type": "stream",
     "text": [
      "Initialising object...\u001b[92m Done \u001b[0m\n",
      "Building sparse matrix...\u001b[92m Done \u001b[0m\n",
      "\u001b[1m\n",
      "Building CF model\u001b[0m\n",
      "Correlating ratings for all movies...\u001b[92m Done \u001b[0m\n",
      "Correlating genres for all movies...\u001b[92m Done \u001b[0m\n",
      "Correlating years for all movies...\u001b[92m Done \u001b[0m\n",
      "Generating combined correlation...\u001b[92m Done \u001b[0m\n",
      "\u001b[92mDone. Time: 13.144672100000001s\u001b[0m\n",
      "\u001b[1m\n",
      "Building KNN model\u001b[0m\n",
      "\u001b[92mDone. Time: 0.024962500000000887s\u001b[0m\n",
      "\u001b[1m\n",
      "Building KNN model\u001b[0m\n",
      "\u001b[92mDone. Time: 0.007154299999996283s\u001b[0m\n"
     ]
    }
   ],
   "source": [
    "algo = Algorithms.Algorithms(ml, train, test)\n",
    "ratingsSparse = algo.buildMatrix()\n",
    "printStatus = True\n",
    "\n",
    "CF_itemModel = algo.buildModel(modelType='CF', matrix='item', printStatus=printStatus)\n",
    "KNN_itemModel = algo.buildModel(modelType='KNN', matrix=ratingsSparse.transpose(), printStatus=printStatus)\n",
    "KNN_userModel = algo.buildModel(modelType='KNN', matrix=ratingsSparse, printStatus=printStatus)\n",
    "#SVD_model = algo.buildModel(modelType='SVD', printStatus=printStatus)"
   ]
  },
  {
   "cell_type": "markdown",
   "metadata": {},
   "source": [
    "## Testing and Metrics\n",
    "\n",
    "- Adding algorithms for testing\n",
    "- Running basic and parameter tests\n",
    "- MAE, RMSE, Coverage, Diversity, Novelty, Hit Rates (Validation, LOO-CV, Cumulative, Mean Reciprocal, Actual Rating)"
   ]
  },
  {
   "cell_type": "markdown",
   "metadata": {},
   "source": [
    "The Metrics class contains the various metrics we'll be using the test the quality of our results. This takes the validation and LOO-CV sets to check the results against, a filename for the csv that stores the results, as well as various parameters for testing (discussed below).\n",
    "\n",
    "This object is then passed to the Tester class to create our test object. This object has two primary methods for testing, runBasicTest and runParameterTest, as well as two methods for adding and removin algorithms. All we need to do to set up tests is to instantiate the tester object, and pass the various algorithms' names, method to call, model and all other parameters to control for this test. The parameters we control will be discussed in greater detail when discussing results later in this notebook.\n",
    "\n",
    "Here we'll also add a random control algorithm which simply generates random similarity scores and random rating precitions for every user. The randomRatings parameter of this method determines whether or not the rating predictions are a random number between 0-5 independent of the similarity scores, or if the rating predictions are a multiple of the randomly generated similarity scores."
   ]
  },
  {
   "cell_type": "code",
   "execution_count": 5,
   "metadata": {
    "scrolled": false
   },
   "outputs": [
    {
     "name": "stdout",
     "output_type": "stream",
     "text": [
      "ML_RecommenderMetrics.csv already exists. Update this file (u) or overwrite (o)? u\n",
      "Added Item-Based CF\n",
      "Added User-Based CF\n",
      "Added Item-Based KNN\n",
      "Added User-Based KNN\n",
      "Added Random Control\n"
     ]
    }
   ],
   "source": [
    "filename = 'ML_RecommenderMetrics'\n",
    "evaluator = Tester.Metrics(validation, LOO, topN=10, moviesPerPage=5, thresholdRating=3.0, csvName=filename)\n",
    "tester = Tester.Tester(evaluator)\n",
    "\n",
    "neighbours = 100\n",
    "sample = 100\n",
    "thresh = 2.0\n",
    "\n",
    "tester.addAlgorithm('Item-Based CF', algo.itemBased, model=CF_itemModel, modelType='CF', neighbours=neighbours,\n",
    "                    sample=sample, threshold=thresh, pred='calc')\n",
    "tester.addAlgorithm('User-Based CF', algo.userBased, model=None, modelType='CF', neighbours=neighbours,\n",
    "                    sample=sample, threshold=thresh, pred='calc')\n",
    "tester.addAlgorithm('Item-Based KNN', algo.itemBased, model=KNN_itemModel, modelType='KNN', neighbours=neighbours,\n",
    "                    sample=sample, threshold=thresh, pred='calc')\n",
    "tester.addAlgorithm('User-Based KNN', algo.userBased, model=KNN_userModel, modelType='KNN', neighbours=neighbours,\n",
    "                    sample=sample, threshold=thresh, pred='calc')\n",
    "#tester.addAlgorithm('SVD', algo.SVD, model=SVD_model, sample=sample, pred='calc')\n",
    "tester.addAlgorithm('Random Control', algo.random, randomRatings=True)"
   ]
  },
  {
   "cell_type": "markdown",
   "metadata": {},
   "source": [
    "With the algorithms loaded, we can now run a simple test using the test set. The runBasicTest takes a few key arguements: \n",
    "- testData - the test set\n",
    "- testAlgo - the name of the algorithm from the dictionary of loaded algorithms to test \n",
    "- sampleTest - the number of users from the test to sample\n",
    "- param, pValue - the paramater and its value to modify from the stored parameters within the object\n",
    "\n",
    "Here we run a simply test on the above using the stored algorithms for 10 randomly sample users in the test set."
   ]
  },
  {
   "cell_type": "code",
   "execution_count": 6,
   "metadata": {},
   "outputs": [
    {
     "data": {
      "application/vnd.jupyter.widget-view+json": {
       "model_id": "",
       "version_major": 2,
       "version_minor": 0
      },
      "text/plain": [
       "Testing Item-Based CF:   0%|          | 0/10 [00:00<?, ? Users/s]"
      ]
     },
     "metadata": {},
     "output_type": "display_data"
    },
    {
     "data": {
      "application/vnd.jupyter.widget-view+json": {
       "model_id": "",
       "version_major": 2,
       "version_minor": 0
      },
      "text/plain": [
       "Testing User-Based CF:   0%|          | 0/10 [00:00<?, ? Users/s]"
      ]
     },
     "metadata": {},
     "output_type": "display_data"
    },
    {
     "data": {
      "application/vnd.jupyter.widget-view+json": {
       "model_id": "",
       "version_major": 2,
       "version_minor": 0
      },
      "text/plain": [
       "Testing Item-Based KNN:   0%|          | 0/10 [00:00<?, ? Users/s]"
      ]
     },
     "metadata": {},
     "output_type": "display_data"
    },
    {
     "data": {
      "application/vnd.jupyter.widget-view+json": {
       "model_id": "",
       "version_major": 2,
       "version_minor": 0
      },
      "text/plain": [
       "Testing User-Based KNN:   0%|          | 0/10 [00:00<?, ? Users/s]"
      ]
     },
     "metadata": {},
     "output_type": "display_data"
    },
    {
     "data": {
      "application/vnd.jupyter.widget-view+json": {
       "model_id": "",
       "version_major": 2,
       "version_minor": 0
      },
      "text/plain": [
       "Testing Random Control:   0%|          | 0/10 [00:00<?, ? Users/s]"
      ]
     },
     "metadata": {},
     "output_type": "display_data"
    }
   ],
   "source": [
    "tester.runBasicTest(test, sampleTest=10)"
   ]
  },
  {
   "cell_type": "markdown",
   "metadata": {},
   "source": [
    "The runParameterTest method allows us to iterate through a range of values for a given parameter. The parameter is passed to the runBasicTest to run tests across the users present in the test set. This allows us to see the effect of changing parameters within the methods, with the aim of fine-tuning the algorithms. The parameters for this function are much the same as the runBasicTest method, with pValue now replaced with pRange as the range of parameters to test.\n",
    "\n",
    "Here we run a basic demonstration on the 'pred' parameter which changes the rating prediction algorithm (discussed in greater in the results)."
   ]
  },
  {
   "cell_type": "code",
   "execution_count": 7,
   "metadata": {},
   "outputs": [
    {
     "data": {
      "application/vnd.jupyter.widget-view+json": {
       "model_id": "",
       "version_major": 2,
       "version_minor": 0
      },
      "text/plain": [
       "Parameter Testing:   0%|          | 0/4 [00:00<?, ?Parameter/s]"
      ]
     },
     "metadata": {},
     "output_type": "display_data"
    },
    {
     "data": {
      "application/vnd.jupyter.widget-view+json": {
       "model_id": "",
       "version_major": 2,
       "version_minor": 0
      },
      "text/plain": [
       "Testing Item-Based CF:   0%|          | 0/10 [00:00<?, ? Users/s]"
      ]
     },
     "metadata": {},
     "output_type": "display_data"
    },
    {
     "data": {
      "application/vnd.jupyter.widget-view+json": {
       "model_id": "",
       "version_major": 2,
       "version_minor": 0
      },
      "text/plain": [
       "Testing User-Based CF:   0%|          | 0/10 [00:00<?, ? Users/s]"
      ]
     },
     "metadata": {},
     "output_type": "display_data"
    },
    {
     "data": {
      "application/vnd.jupyter.widget-view+json": {
       "model_id": "",
       "version_major": 2,
       "version_minor": 0
      },
      "text/plain": [
       "Testing Item-Based KNN:   0%|          | 0/10 [00:00<?, ? Users/s]"
      ]
     },
     "metadata": {},
     "output_type": "display_data"
    },
    {
     "data": {
      "application/vnd.jupyter.widget-view+json": {
       "model_id": "",
       "version_major": 2,
       "version_minor": 0
      },
      "text/plain": [
       "Testing User-Based KNN:   0%|          | 0/10 [00:00<?, ? Users/s]"
      ]
     },
     "metadata": {},
     "output_type": "display_data"
    },
    {
     "data": {
      "application/vnd.jupyter.widget-view+json": {
       "model_id": "",
       "version_major": 2,
       "version_minor": 0
      },
      "text/plain": [
       "Testing Random Control:   0%|          | 0/10 [00:00<?, ? Users/s]"
      ]
     },
     "metadata": {},
     "output_type": "display_data"
    },
    {
     "data": {
      "application/vnd.jupyter.widget-view+json": {
       "model_id": "",
       "version_major": 2,
       "version_minor": 0
      },
      "text/plain": [
       "Testing Item-Based CF:   0%|          | 0/10 [00:00<?, ? Users/s]"
      ]
     },
     "metadata": {},
     "output_type": "display_data"
    },
    {
     "data": {
      "application/vnd.jupyter.widget-view+json": {
       "model_id": "",
       "version_major": 2,
       "version_minor": 0
      },
      "text/plain": [
       "Testing User-Based CF:   0%|          | 0/10 [00:00<?, ? Users/s]"
      ]
     },
     "metadata": {},
     "output_type": "display_data"
    },
    {
     "data": {
      "application/vnd.jupyter.widget-view+json": {
       "model_id": "",
       "version_major": 2,
       "version_minor": 0
      },
      "text/plain": [
       "Testing Item-Based KNN:   0%|          | 0/10 [00:00<?, ? Users/s]"
      ]
     },
     "metadata": {},
     "output_type": "display_data"
    },
    {
     "data": {
      "application/vnd.jupyter.widget-view+json": {
       "model_id": "",
       "version_major": 2,
       "version_minor": 0
      },
      "text/plain": [
       "Testing User-Based KNN:   0%|          | 0/10 [00:00<?, ? Users/s]"
      ]
     },
     "metadata": {},
     "output_type": "display_data"
    },
    {
     "data": {
      "application/vnd.jupyter.widget-view+json": {
       "model_id": "",
       "version_major": 2,
       "version_minor": 0
      },
      "text/plain": [
       "Testing Random Control:   0%|          | 0/10 [00:00<?, ? Users/s]"
      ]
     },
     "metadata": {},
     "output_type": "display_data"
    },
    {
     "data": {
      "application/vnd.jupyter.widget-view+json": {
       "model_id": "",
       "version_major": 2,
       "version_minor": 0
      },
      "text/plain": [
       "Testing Item-Based CF:   0%|          | 0/10 [00:00<?, ? Users/s]"
      ]
     },
     "metadata": {},
     "output_type": "display_data"
    },
    {
     "data": {
      "application/vnd.jupyter.widget-view+json": {
       "model_id": "",
       "version_major": 2,
       "version_minor": 0
      },
      "text/plain": [
       "Testing User-Based CF:   0%|          | 0/10 [00:00<?, ? Users/s]"
      ]
     },
     "metadata": {},
     "output_type": "display_data"
    },
    {
     "data": {
      "application/vnd.jupyter.widget-view+json": {
       "model_id": "",
       "version_major": 2,
       "version_minor": 0
      },
      "text/plain": [
       "Testing Item-Based KNN:   0%|          | 0/10 [00:00<?, ? Users/s]"
      ]
     },
     "metadata": {},
     "output_type": "display_data"
    },
    {
     "data": {
      "application/vnd.jupyter.widget-view+json": {
       "model_id": "",
       "version_major": 2,
       "version_minor": 0
      },
      "text/plain": [
       "Testing User-Based KNN:   0%|          | 0/10 [00:00<?, ? Users/s]"
      ]
     },
     "metadata": {},
     "output_type": "display_data"
    },
    {
     "data": {
      "application/vnd.jupyter.widget-view+json": {
       "model_id": "",
       "version_major": 2,
       "version_minor": 0
      },
      "text/plain": [
       "Testing Random Control:   0%|          | 0/10 [00:00<?, ? Users/s]"
      ]
     },
     "metadata": {},
     "output_type": "display_data"
    },
    {
     "data": {
      "application/vnd.jupyter.widget-view+json": {
       "model_id": "",
       "version_major": 2,
       "version_minor": 0
      },
      "text/plain": [
       "Testing Item-Based CF:   0%|          | 0/10 [00:00<?, ? Users/s]"
      ]
     },
     "metadata": {},
     "output_type": "display_data"
    },
    {
     "data": {
      "application/vnd.jupyter.widget-view+json": {
       "model_id": "",
       "version_major": 2,
       "version_minor": 0
      },
      "text/plain": [
       "Testing User-Based CF:   0%|          | 0/10 [00:00<?, ? Users/s]"
      ]
     },
     "metadata": {},
     "output_type": "display_data"
    },
    {
     "data": {
      "application/vnd.jupyter.widget-view+json": {
       "model_id": "",
       "version_major": 2,
       "version_minor": 0
      },
      "text/plain": [
       "Testing Item-Based KNN:   0%|          | 0/10 [00:00<?, ? Users/s]"
      ]
     },
     "metadata": {},
     "output_type": "display_data"
    },
    {
     "data": {
      "application/vnd.jupyter.widget-view+json": {
       "model_id": "",
       "version_major": 2,
       "version_minor": 0
      },
      "text/plain": [
       "Testing User-Based KNN:   0%|          | 0/10 [00:00<?, ? Users/s]"
      ]
     },
     "metadata": {},
     "output_type": "display_data"
    },
    {
     "data": {
      "application/vnd.jupyter.widget-view+json": {
       "model_id": "",
       "version_major": 2,
       "version_minor": 0
      },
      "text/plain": [
       "Testing Random Control:   0%|          | 0/10 [00:00<?, ? Users/s]"
      ]
     },
     "metadata": {},
     "output_type": "display_data"
    }
   ],
   "source": [
    "parameter = 'pred'\n",
    "pRange = ['rand', 'calc', 'sims', 'norm_sims']\n",
    "sampleTest = 10\n",
    "\n",
    "tester.runParameterTest(test, param=parameter, pRange=pRange, sampleTest=sampleTest, printResults=False)"
   ]
  },
  {
   "cell_type": "markdown",
   "metadata": {},
   "source": [
    "By calling the readCSV method in the evaluator class, we can see the results we have just generated ready for analysis."
   ]
  },
  {
   "cell_type": "code",
   "execution_count": 8,
   "metadata": {},
   "outputs": [
    {
     "data": {
      "text/html": [
       "<div>\n",
       "<style scoped>\n",
       "    .dataframe tbody tr th:only-of-type {\n",
       "        vertical-align: middle;\n",
       "    }\n",
       "\n",
       "    .dataframe tbody tr th {\n",
       "        vertical-align: top;\n",
       "    }\n",
       "\n",
       "    .dataframe thead th {\n",
       "        text-align: right;\n",
       "    }\n",
       "</style>\n",
       "<table border=\"1\" class=\"dataframe\">\n",
       "  <thead>\n",
       "    <tr style=\"text-align: right;\">\n",
       "      <th></th>\n",
       "      <th>Algorithm</th>\n",
       "      <th>Top-N</th>\n",
       "      <th>MoviesPerPage</th>\n",
       "      <th>ThresholdRating</th>\n",
       "      <th>TotalIDs</th>\n",
       "      <th>ParameterTest</th>\n",
       "      <th>ParameterValue</th>\n",
       "      <th>OtherParameters</th>\n",
       "      <th>TotalTime/s</th>\n",
       "      <th>MeanTime/s</th>\n",
       "      <th>MAE</th>\n",
       "      <th>RMSE</th>\n",
       "      <th>Coverage</th>\n",
       "      <th>Diversity</th>\n",
       "      <th>Novelty</th>\n",
       "      <th>LOOCV_HR</th>\n",
       "      <th>Validation_HR</th>\n",
       "      <th>Cumulative_HR</th>\n",
       "      <th>MeanReciprocal_HR</th>\n",
       "      <th>ActualRating_HR</th>\n",
       "    </tr>\n",
       "  </thead>\n",
       "  <tbody>\n",
       "    <tr>\n",
       "      <th>0</th>\n",
       "      <td>Item-Based CF</td>\n",
       "      <td>10</td>\n",
       "      <td>5</td>\n",
       "      <td>3.0</td>\n",
       "      <td>10</td>\n",
       "      <td>NaN</td>\n",
       "      <td>NaN</td>\n",
       "      <td>{'modelType': 'CF', 'neighbours': 100, 'sample...</td>\n",
       "      <td>0.372827</td>\n",
       "      <td>0.037283</td>\n",
       "      <td>0.817882</td>\n",
       "      <td>0.847521</td>\n",
       "      <td>0.292219</td>\n",
       "      <td>0.303801</td>\n",
       "      <td>0.077635</td>\n",
       "      <td>0.0</td>\n",
       "      <td>0.18</td>\n",
       "      <td>0.18</td>\n",
       "      <td>0.130</td>\n",
       "      <td>{2.0: 0.000641025641025641, 3.0: 0.00333333333...</td>\n",
       "    </tr>\n",
       "    <tr>\n",
       "      <th>1</th>\n",
       "      <td>User-Based CF</td>\n",
       "      <td>10</td>\n",
       "      <td>5</td>\n",
       "      <td>3.0</td>\n",
       "      <td>10</td>\n",
       "      <td>NaN</td>\n",
       "      <td>NaN</td>\n",
       "      <td>{'modelType': 'CF', 'neighbours': 100, 'sample...</td>\n",
       "      <td>11.811715</td>\n",
       "      <td>1.181171</td>\n",
       "      <td>0.256619</td>\n",
       "      <td>0.269141</td>\n",
       "      <td>0.252552</td>\n",
       "      <td>0.430652</td>\n",
       "      <td>0.008315</td>\n",
       "      <td>0.0</td>\n",
       "      <td>0.12</td>\n",
       "      <td>0.12</td>\n",
       "      <td>0.085</td>\n",
       "      <td>{3.0: 0.0011494252873563218, 4.0: 0.0042596348...</td>\n",
       "    </tr>\n",
       "    <tr>\n",
       "      <th>2</th>\n",
       "      <td>Item-Based KNN</td>\n",
       "      <td>10</td>\n",
       "      <td>5</td>\n",
       "      <td>3.0</td>\n",
       "      <td>10</td>\n",
       "      <td>NaN</td>\n",
       "      <td>NaN</td>\n",
       "      <td>{'modelType': 'KNN', 'neighbours': 100, 'sampl...</td>\n",
       "      <td>28.573854</td>\n",
       "      <td>2.857385</td>\n",
       "      <td>0.543997</td>\n",
       "      <td>0.593887</td>\n",
       "      <td>0.120390</td>\n",
       "      <td>0.156988</td>\n",
       "      <td>0.003518</td>\n",
       "      <td>0.0</td>\n",
       "      <td>0.10</td>\n",
       "      <td>0.10</td>\n",
       "      <td>0.080</td>\n",
       "      <td>{1.0: 0.001020408163265306, 3.0: 0.00194174757...</td>\n",
       "    </tr>\n",
       "    <tr>\n",
       "      <th>3</th>\n",
       "      <td>User-Based KNN</td>\n",
       "      <td>10</td>\n",
       "      <td>5</td>\n",
       "      <td>3.0</td>\n",
       "      <td>10</td>\n",
       "      <td>NaN</td>\n",
       "      <td>NaN</td>\n",
       "      <td>{'modelType': 'KNN', 'neighbours': 100, 'sampl...</td>\n",
       "      <td>2.816096</td>\n",
       "      <td>0.281610</td>\n",
       "      <td>0.475467</td>\n",
       "      <td>0.536255</td>\n",
       "      <td>0.097610</td>\n",
       "      <td>0.409357</td>\n",
       "      <td>0.010964</td>\n",
       "      <td>0.0</td>\n",
       "      <td>0.30</td>\n",
       "      <td>0.30</td>\n",
       "      <td>0.220</td>\n",
       "      <td>{3.0: 0.005664830841856806, 3.5: 0.00738613271...</td>\n",
       "    </tr>\n",
       "    <tr>\n",
       "      <th>4</th>\n",
       "      <td>Random Control</td>\n",
       "      <td>10</td>\n",
       "      <td>5</td>\n",
       "      <td>3.0</td>\n",
       "      <td>10</td>\n",
       "      <td>NaN</td>\n",
       "      <td>NaN</td>\n",
       "      <td>{'randomRatings': True}</td>\n",
       "      <td>0.017117</td>\n",
       "      <td>0.001712</td>\n",
       "      <td>0.000000</td>\n",
       "      <td>0.000000</td>\n",
       "      <td>1.000000</td>\n",
       "      <td>0.000539</td>\n",
       "      <td>0.568250</td>\n",
       "      <td>0.0</td>\n",
       "      <td>0.00</td>\n",
       "      <td>0.00</td>\n",
       "      <td>0.000</td>\n",
       "      <td>{}</td>\n",
       "    </tr>\n",
       "    <tr>\n",
       "      <th>5</th>\n",
       "      <td>Item-Based CF</td>\n",
       "      <td>10</td>\n",
       "      <td>5</td>\n",
       "      <td>3.0</td>\n",
       "      <td>10</td>\n",
       "      <td>pred</td>\n",
       "      <td>rand</td>\n",
       "      <td>{'modelType': 'CF', 'neighbours': 100, 'sample...</td>\n",
       "      <td>0.111868</td>\n",
       "      <td>0.011187</td>\n",
       "      <td>1.837523</td>\n",
       "      <td>2.022494</td>\n",
       "      <td>0.262286</td>\n",
       "      <td>0.313915</td>\n",
       "      <td>0.061639</td>\n",
       "      <td>0.1</td>\n",
       "      <td>0.22</td>\n",
       "      <td>0.12</td>\n",
       "      <td>0.175</td>\n",
       "      <td>{2.0: 0.0024390243902439024, 2.5: 0.0008130081...</td>\n",
       "    </tr>\n",
       "    <tr>\n",
       "      <th>6</th>\n",
       "      <td>User-Based CF</td>\n",
       "      <td>10</td>\n",
       "      <td>5</td>\n",
       "      <td>3.0</td>\n",
       "      <td>10</td>\n",
       "      <td>pred</td>\n",
       "      <td>rand</td>\n",
       "      <td>{'modelType': 'CF', 'neighbours': 100, 'sample...</td>\n",
       "      <td>11.799680</td>\n",
       "      <td>1.179968</td>\n",
       "      <td>1.125994</td>\n",
       "      <td>1.167066</td>\n",
       "      <td>0.257190</td>\n",
       "      <td>0.430620</td>\n",
       "      <td>0.009057</td>\n",
       "      <td>0.0</td>\n",
       "      <td>0.13</td>\n",
       "      <td>0.06</td>\n",
       "      <td>0.095</td>\n",
       "      <td>{2.5: 0.0013986013986013986, 3.0: 0.0006993006...</td>\n",
       "    </tr>\n",
       "    <tr>\n",
       "      <th>7</th>\n",
       "      <td>Item-Based KNN</td>\n",
       "      <td>10</td>\n",
       "      <td>5</td>\n",
       "      <td>3.0</td>\n",
       "      <td>10</td>\n",
       "      <td>pred</td>\n",
       "      <td>rand</td>\n",
       "      <td>{'modelType': 'KNN', 'neighbours': 100, 'sampl...</td>\n",
       "      <td>28.734914</td>\n",
       "      <td>2.873491</td>\n",
       "      <td>1.689455</td>\n",
       "      <td>1.862067</td>\n",
       "      <td>0.096810</td>\n",
       "      <td>0.162071</td>\n",
       "      <td>0.002309</td>\n",
       "      <td>0.0</td>\n",
       "      <td>0.14</td>\n",
       "      <td>0.07</td>\n",
       "      <td>0.105</td>\n",
       "      <td>{3.0: 0.0018867924528301887, 3.5: 0.0031735985...</td>\n",
       "    </tr>\n",
       "    <tr>\n",
       "      <th>8</th>\n",
       "      <td>User-Based KNN</td>\n",
       "      <td>10</td>\n",
       "      <td>5</td>\n",
       "      <td>3.0</td>\n",
       "      <td>10</td>\n",
       "      <td>pred</td>\n",
       "      <td>rand</td>\n",
       "      <td>{'modelType': 'KNN', 'neighbours': 100, 'sampl...</td>\n",
       "      <td>2.825017</td>\n",
       "      <td>0.282502</td>\n",
       "      <td>1.853480</td>\n",
       "      <td>1.990853</td>\n",
       "      <td>0.110933</td>\n",
       "      <td>0.409590</td>\n",
       "      <td>0.010910</td>\n",
       "      <td>0.0</td>\n",
       "      <td>0.35</td>\n",
       "      <td>0.10</td>\n",
       "      <td>0.250</td>\n",
       "      <td>{3.0: 0.004897959183673469, 3.5: 0.00571428571...</td>\n",
       "    </tr>\n",
       "    <tr>\n",
       "      <th>9</th>\n",
       "      <td>Random Control</td>\n",
       "      <td>10</td>\n",
       "      <td>5</td>\n",
       "      <td>3.0</td>\n",
       "      <td>10</td>\n",
       "      <td>pred</td>\n",
       "      <td>rand</td>\n",
       "      <td>{'randomRatings': True}</td>\n",
       "      <td>0.016694</td>\n",
       "      <td>0.001669</td>\n",
       "      <td>0.453887</td>\n",
       "      <td>0.453887</td>\n",
       "      <td>1.000000</td>\n",
       "      <td>0.000535</td>\n",
       "      <td>0.478374</td>\n",
       "      <td>0.0</td>\n",
       "      <td>0.02</td>\n",
       "      <td>0.01</td>\n",
       "      <td>0.015</td>\n",
       "      <td>{4.0: 0.0014492753623188406, 4.5: 0.0005464480...</td>\n",
       "    </tr>\n",
       "  </tbody>\n",
       "</table>\n",
       "</div>"
      ],
      "text/plain": [
       "        Algorithm  Top-N  MoviesPerPage  ThresholdRating  TotalIDs  \\\n",
       "0   Item-Based CF     10              5              3.0        10   \n",
       "1   User-Based CF     10              5              3.0        10   \n",
       "2  Item-Based KNN     10              5              3.0        10   \n",
       "3  User-Based KNN     10              5              3.0        10   \n",
       "4  Random Control     10              5              3.0        10   \n",
       "5   Item-Based CF     10              5              3.0        10   \n",
       "6   User-Based CF     10              5              3.0        10   \n",
       "7  Item-Based KNN     10              5              3.0        10   \n",
       "8  User-Based KNN     10              5              3.0        10   \n",
       "9  Random Control     10              5              3.0        10   \n",
       "\n",
       "  ParameterTest ParameterValue  \\\n",
       "0           NaN            NaN   \n",
       "1           NaN            NaN   \n",
       "2           NaN            NaN   \n",
       "3           NaN            NaN   \n",
       "4           NaN            NaN   \n",
       "5          pred           rand   \n",
       "6          pred           rand   \n",
       "7          pred           rand   \n",
       "8          pred           rand   \n",
       "9          pred           rand   \n",
       "\n",
       "                                     OtherParameters  TotalTime/s  MeanTime/s  \\\n",
       "0  {'modelType': 'CF', 'neighbours': 100, 'sample...     0.372827    0.037283   \n",
       "1  {'modelType': 'CF', 'neighbours': 100, 'sample...    11.811715    1.181171   \n",
       "2  {'modelType': 'KNN', 'neighbours': 100, 'sampl...    28.573854    2.857385   \n",
       "3  {'modelType': 'KNN', 'neighbours': 100, 'sampl...     2.816096    0.281610   \n",
       "4                            {'randomRatings': True}     0.017117    0.001712   \n",
       "5  {'modelType': 'CF', 'neighbours': 100, 'sample...     0.111868    0.011187   \n",
       "6  {'modelType': 'CF', 'neighbours': 100, 'sample...    11.799680    1.179968   \n",
       "7  {'modelType': 'KNN', 'neighbours': 100, 'sampl...    28.734914    2.873491   \n",
       "8  {'modelType': 'KNN', 'neighbours': 100, 'sampl...     2.825017    0.282502   \n",
       "9                            {'randomRatings': True}     0.016694    0.001669   \n",
       "\n",
       "        MAE      RMSE  Coverage  Diversity   Novelty  LOOCV_HR  Validation_HR  \\\n",
       "0  0.817882  0.847521  0.292219   0.303801  0.077635       0.0           0.18   \n",
       "1  0.256619  0.269141  0.252552   0.430652  0.008315       0.0           0.12   \n",
       "2  0.543997  0.593887  0.120390   0.156988  0.003518       0.0           0.10   \n",
       "3  0.475467  0.536255  0.097610   0.409357  0.010964       0.0           0.30   \n",
       "4  0.000000  0.000000  1.000000   0.000539  0.568250       0.0           0.00   \n",
       "5  1.837523  2.022494  0.262286   0.313915  0.061639       0.1           0.22   \n",
       "6  1.125994  1.167066  0.257190   0.430620  0.009057       0.0           0.13   \n",
       "7  1.689455  1.862067  0.096810   0.162071  0.002309       0.0           0.14   \n",
       "8  1.853480  1.990853  0.110933   0.409590  0.010910       0.0           0.35   \n",
       "9  0.453887  0.453887  1.000000   0.000535  0.478374       0.0           0.02   \n",
       "\n",
       "   Cumulative_HR  MeanReciprocal_HR  \\\n",
       "0           0.18              0.130   \n",
       "1           0.12              0.085   \n",
       "2           0.10              0.080   \n",
       "3           0.30              0.220   \n",
       "4           0.00              0.000   \n",
       "5           0.12              0.175   \n",
       "6           0.06              0.095   \n",
       "7           0.07              0.105   \n",
       "8           0.10              0.250   \n",
       "9           0.01              0.015   \n",
       "\n",
       "                                     ActualRating_HR  \n",
       "0  {2.0: 0.000641025641025641, 3.0: 0.00333333333...  \n",
       "1  {3.0: 0.0011494252873563218, 4.0: 0.0042596348...  \n",
       "2  {1.0: 0.001020408163265306, 3.0: 0.00194174757...  \n",
       "3  {3.0: 0.005664830841856806, 3.5: 0.00738613271...  \n",
       "4                                                 {}  \n",
       "5  {2.0: 0.0024390243902439024, 2.5: 0.0008130081...  \n",
       "6  {2.5: 0.0013986013986013986, 3.0: 0.0006993006...  \n",
       "7  {3.0: 0.0018867924528301887, 3.5: 0.0031735985...  \n",
       "8  {3.0: 0.004897959183673469, 3.5: 0.00571428571...  \n",
       "9  {4.0: 0.0014492753623188406, 4.5: 0.0005464480...  "
      ]
     },
     "execution_count": 8,
     "metadata": {},
     "output_type": "execute_result"
    }
   ],
   "source": [
    "evaluator.readCSV(filename).head(10)"
   ]
  },
  {
   "cell_type": "markdown",
   "metadata": {},
   "source": [
    "### Metrics and the Metrics class\n",
    "\n",
    "The recommendations for each userID are passed to the an instantiate object of the Metrics class for evaluation. It runs various tests and saves the results to a csv file for later analysis. It requires a few paramaters upon initialisation to run the tests: \n",
    "- Top-N: the top number of recommendations to consider (used by all metrics bar coverage)\n",
    "- moviesPerPage: the number of movies that will appear per page for the end-user, used only by the meanReciprocalHR metric)\n",
    "- thresholdRating: the minimum rating to be considered by the cumulativeHR metric\n",
    "\n",
    "Below is a full list and description of the metrics used for testing.\n",
    "\n",
    "#### MAE\n",
    "\n",
    "\n",
    "#### RMSE\n",
    "\n",
    "\n",
    "#### Coverage\n",
    "\n",
    "\n",
    "#### Diversity\n",
    "\n",
    "\n",
    "#### Novelty\n",
    "\n",
    "\n",
    "#### Validation HitRate\n",
    "\n",
    "\n",
    "#### LeaveOneOut-CrossValidation HitRate\n",
    "\n",
    "\n",
    "#### Cumulative HitRate\n",
    "\n",
    "\n",
    "#### Mean Reciprocal HitRate\n",
    "\n",
    "\n",
    "#### Actual Rating HitRate"
   ]
  },
  {
   "cell_type": "markdown",
   "metadata": {},
   "source": [
    "## Results\n",
    "\n",
    "- Basic results\n",
    "- Testing the rating prediction paramater\n",
    "- Testing the threshold rating parameter\n",
    "- Testing the sample parameter for item-based algorithms\n",
    "- Testing the sample parameter for user-based algorithms\n",
    "- Testing the neighbours parameter for item-based algorithms\n",
    "- Testing the neighbours parameter for user-based algorithms\n",
    "- Runtimes"
   ]
  },
  {
   "cell_type": "markdown",
   "metadata": {},
   "source": []
  },
  {
   "cell_type": "code",
   "execution_count": 11,
   "metadata": {},
   "outputs": [
    {
     "name": "stdout",
     "output_type": "stream",
     "text": [
      "Added Item-Based CF\n",
      "Added User-Based CF\n",
      "Added Item-Based KNN\n",
      "Added User-Based KNN\n"
     ]
    }
   ],
   "source": [
    "filename = 'ML_RecommenderMetrics'\n",
    "evaluator = Tester.Metrics(validation, LOO, topN=30, moviesPerPage=5, thresholdRating=3.0, csvName=filename)\n",
    "tester = Tester.Tester(evaluator)\n",
    "\n",
    "neighbours = 100\n",
    "sample = 100\n",
    "thresh = 2.0\n",
    "\n",
    "tester.addAlgorithm('Item-Based CF', algo.itemBased, model=CF_itemModel, modelType='CF', neighbours=neighbours,\n",
    "                    sample=sample, threshold=thresh, pred='calc')\n",
    "tester.addAlgorithm('User-Based CF', algo.userBased, model=None, modelType='CF', neighbours=neighbours,\n",
    "                    sample=sample, threshold=thresh, pred='calc')\n",
    "tester.addAlgorithm('Item-Based KNN', algo.itemBased, model=KNN_itemModel, modelType='KNN', neighbours=neighbours,\n",
    "                    sample=sample, threshold=thresh, pred='calc')\n",
    "tester.addAlgorithm('User-Based KNN', algo.userBased, model=KNN_userModel, modelType='KNN', neighbours=neighbours,\n",
    "                    sample=sample, threshold=thresh, pred='calc')"
   ]
  },
  {
   "cell_type": "code",
   "execution_count": 8,
   "metadata": {
    "collapsed": true
   },
   "outputs": [
    {
     "data": {
      "application/vnd.jupyter.widget-view+json": {
       "model_id": "ef94a0163cc0422986028419795e5323",
       "version_major": 2,
       "version_minor": 0
      },
      "text/plain": [
       "Parameter Testing:   0%|          | 0/3 [00:00<?, ?Parameter/s]"
      ]
     },
     "metadata": {},
     "output_type": "display_data"
    },
    {
     "data": {
      "application/vnd.jupyter.widget-view+json": {
       "model_id": "",
       "version_major": 2,
       "version_minor": 0
      },
      "text/plain": [
       "Testing Item-Based CF:   0%|          | 0/2056 [00:00<?, ? Users/s]"
      ]
     },
     "metadata": {},
     "output_type": "display_data"
    },
    {
     "data": {
      "application/vnd.jupyter.widget-view+json": {
       "model_id": "",
       "version_major": 2,
       "version_minor": 0
      },
      "text/plain": [
       "Testing User-Based CF:   0%|          | 0/2056 [00:00<?, ? Users/s]"
      ]
     },
     "metadata": {},
     "output_type": "display_data"
    },
    {
     "ename": "StatisticsError",
     "evalue": "mean requires at least one data point",
     "output_type": "error",
     "traceback": [
      "\u001b[1;31m---------------------------------------------------------------------------\u001b[0m",
      "\u001b[1;31mStatisticsError\u001b[0m                           Traceback (most recent call last)",
      "\u001b[1;32m<ipython-input-8-3c02dace1fdd>\u001b[0m in \u001b[0;36m<module>\u001b[1;34m\u001b[0m\n\u001b[0;32m      2\u001b[0m \u001b[0mpRange\u001b[0m \u001b[1;33m=\u001b[0m \u001b[1;33m[\u001b[0m\u001b[1;34m'rand'\u001b[0m\u001b[1;33m,\u001b[0m \u001b[1;34m'sims'\u001b[0m\u001b[1;33m,\u001b[0m \u001b[1;34m'norm_sims'\u001b[0m\u001b[1;33m]\u001b[0m\u001b[1;33m\u001b[0m\u001b[1;33m\u001b[0m\u001b[0m\n\u001b[0;32m      3\u001b[0m \u001b[1;33m\u001b[0m\u001b[0m\n\u001b[1;32m----> 4\u001b[1;33m \u001b[0mtester\u001b[0m\u001b[1;33m.\u001b[0m\u001b[0mrunParameterTest\u001b[0m\u001b[1;33m(\u001b[0m\u001b[0mtest\u001b[0m\u001b[1;33m,\u001b[0m \u001b[0mparam\u001b[0m\u001b[1;33m=\u001b[0m\u001b[0mparameter\u001b[0m\u001b[1;33m,\u001b[0m \u001b[0mpRange\u001b[0m\u001b[1;33m=\u001b[0m\u001b[0mpRange\u001b[0m\u001b[1;33m,\u001b[0m \u001b[0mprintResults\u001b[0m\u001b[1;33m=\u001b[0m\u001b[1;32mFalse\u001b[0m\u001b[1;33m)\u001b[0m\u001b[1;33m\u001b[0m\u001b[1;33m\u001b[0m\u001b[0m\n\u001b[0m",
      "\u001b[1;32mD:\\Coding\\DataSciencePortfolio\\ItemRecommender\\Tester.py\u001b[0m in \u001b[0;36mrunParameterTest\u001b[1;34m(self, testData, param, pRange, testAlgo, sampleTest, printResults)\u001b[0m\n\u001b[0;32m    424\u001b[0m         \u001b[0mbar\u001b[0m \u001b[1;33m=\u001b[0m \u001b[0mtqdm\u001b[0m\u001b[1;33m(\u001b[0m\u001b[0mpRange\u001b[0m\u001b[1;33m,\u001b[0m \u001b[0mdesc\u001b[0m\u001b[1;33m=\u001b[0m\u001b[1;34m'Parameter Testing'\u001b[0m\u001b[1;33m,\u001b[0m \u001b[0munit\u001b[0m\u001b[1;33m=\u001b[0m\u001b[1;34m'Parameter'\u001b[0m\u001b[1;33m,\u001b[0m \u001b[0mleave\u001b[0m\u001b[1;33m=\u001b[0m\u001b[1;32mFalse\u001b[0m\u001b[1;33m,\u001b[0m \u001b[0mfile\u001b[0m\u001b[1;33m=\u001b[0m\u001b[0msys\u001b[0m\u001b[1;33m.\u001b[0m\u001b[0mstdout\u001b[0m\u001b[1;33m)\u001b[0m\u001b[1;33m\u001b[0m\u001b[1;33m\u001b[0m\u001b[0m\n\u001b[0;32m    425\u001b[0m         \u001b[1;32mfor\u001b[0m \u001b[0mpValue\u001b[0m \u001b[1;32min\u001b[0m \u001b[0mbar\u001b[0m\u001b[1;33m:\u001b[0m\u001b[1;33m\u001b[0m\u001b[1;33m\u001b[0m\u001b[0m\n\u001b[1;32m--> 426\u001b[1;33m             \u001b[0mself\u001b[0m\u001b[1;33m.\u001b[0m\u001b[0mrunBasicTest\u001b[0m\u001b[1;33m(\u001b[0m\u001b[0mtestData\u001b[0m\u001b[1;33m,\u001b[0m \u001b[0mparam\u001b[0m\u001b[1;33m,\u001b[0m \u001b[0mpValue\u001b[0m\u001b[1;33m,\u001b[0m \u001b[0mtestAlgo\u001b[0m\u001b[1;33m,\u001b[0m \u001b[0msampleTest\u001b[0m\u001b[1;33m,\u001b[0m \u001b[0mprintResults\u001b[0m\u001b[1;33m)\u001b[0m\u001b[1;33m\u001b[0m\u001b[1;33m\u001b[0m\u001b[0m\n\u001b[0m\u001b[0;32m    427\u001b[0m \u001b[1;33m\u001b[0m\u001b[0m\n\u001b[0;32m    428\u001b[0m     \u001b[1;32mdef\u001b[0m \u001b[0mrunBasicTest\u001b[0m\u001b[1;33m(\u001b[0m\u001b[0mself\u001b[0m\u001b[1;33m,\u001b[0m \u001b[0mtestData\u001b[0m\u001b[1;33m,\u001b[0m \u001b[0mparam\u001b[0m\u001b[1;33m=\u001b[0m\u001b[1;32mNone\u001b[0m\u001b[1;33m,\u001b[0m \u001b[0mpValue\u001b[0m\u001b[1;33m=\u001b[0m\u001b[1;32mNone\u001b[0m\u001b[1;33m,\u001b[0m \u001b[0mtestAlgo\u001b[0m\u001b[1;33m=\u001b[0m\u001b[1;32mNone\u001b[0m\u001b[1;33m,\u001b[0m \u001b[0msampleTest\u001b[0m\u001b[1;33m=\u001b[0m\u001b[1;32mNone\u001b[0m\u001b[1;33m,\u001b[0m \u001b[0mprintResults\u001b[0m\u001b[1;33m=\u001b[0m\u001b[1;32mFalse\u001b[0m\u001b[1;33m)\u001b[0m\u001b[1;33m:\u001b[0m\u001b[1;33m\u001b[0m\u001b[1;33m\u001b[0m\u001b[0m\n",
      "\u001b[1;32mD:\\Coding\\DataSciencePortfolio\\ItemRecommender\\Tester.py\u001b[0m in \u001b[0;36mrunBasicTest\u001b[1;34m(self, testData, param, pValue, testAlgo, sampleTest, printResults)\u001b[0m\n\u001b[0;32m    458\u001b[0m \u001b[1;33m\u001b[0m\u001b[0m\n\u001b[0;32m    459\u001b[0m                 \u001b[0mmeanTime\u001b[0m \u001b[1;33m=\u001b[0m \u001b[1;33m(\u001b[0m\u001b[0mtime\u001b[0m\u001b[1;33m.\u001b[0m\u001b[0mperf_counter\u001b[0m\u001b[1;33m(\u001b[0m\u001b[1;33m)\u001b[0m \u001b[1;33m-\u001b[0m \u001b[0mt_start\u001b[0m\u001b[1;33m)\u001b[0m \u001b[1;33m/\u001b[0m \u001b[0mlen\u001b[0m\u001b[1;33m(\u001b[0m\u001b[0mIDs\u001b[0m\u001b[1;33m)\u001b[0m\u001b[1;33m\u001b[0m\u001b[1;33m\u001b[0m\u001b[0m\n\u001b[1;32m--> 460\u001b[1;33m                 \u001b[0mself\u001b[0m\u001b[1;33m.\u001b[0m\u001b[0mevaluator\u001b[0m\u001b[1;33m.\u001b[0m\u001b[0mallMetrics\u001b[0m\u001b[1;33m(\u001b[0m\u001b[0mname\u001b[0m\u001b[1;33m=\u001b[0m\u001b[0mnameAlgo\u001b[0m\u001b[1;33m,\u001b[0m \u001b[0mprintResults\u001b[0m\u001b[1;33m=\u001b[0m\u001b[0mprintResults\u001b[0m\u001b[1;33m)\u001b[0m\u001b[1;33m\u001b[0m\u001b[1;33m\u001b[0m\u001b[0m\n\u001b[0m\u001b[0;32m    461\u001b[0m                 \u001b[0mself\u001b[0m\u001b[1;33m.\u001b[0m\u001b[0mevaluator\u001b[0m\u001b[1;33m.\u001b[0m\u001b[0mupdateCSV\u001b[0m\u001b[1;33m(\u001b[0m\u001b[0mnameAlgo\u001b[0m\u001b[1;33m,\u001b[0m \u001b[0mlen\u001b[0m\u001b[1;33m(\u001b[0m\u001b[0mIDs\u001b[0m\u001b[1;33m)\u001b[0m\u001b[1;33m,\u001b[0m \u001b[0mmeanTime\u001b[0m\u001b[1;33m,\u001b[0m \u001b[0mparam\u001b[0m\u001b[1;33m,\u001b[0m \u001b[0mpValue\u001b[0m\u001b[1;33m,\u001b[0m \u001b[0mkwargs\u001b[0m\u001b[1;33m)\u001b[0m\u001b[1;33m\u001b[0m\u001b[1;33m\u001b[0m\u001b[0m\n\u001b[0;32m    462\u001b[0m             \u001b[1;32mreturn\u001b[0m\u001b[1;33m\u001b[0m\u001b[1;33m\u001b[0m\u001b[0m\n",
      "\u001b[1;32mD:\\Coding\\DataSciencePortfolio\\ItemRecommender\\Tester.py\u001b[0m in \u001b[0;36mallMetrics\u001b[1;34m(self, normalise, printResults, name, dp)\u001b[0m\n\u001b[0;32m    199\u001b[0m             \u001b[1;34m'RMSE'\u001b[0m\u001b[1;33m:\u001b[0m \u001b[0mself\u001b[0m\u001b[1;33m.\u001b[0m\u001b[0mRMSE\u001b[0m\u001b[1;33m(\u001b[0m\u001b[1;33m)\u001b[0m\u001b[1;33m,\u001b[0m\u001b[1;33m\u001b[0m\u001b[1;33m\u001b[0m\u001b[0m\n\u001b[0;32m    200\u001b[0m             \u001b[1;34m'coverage'\u001b[0m\u001b[1;33m:\u001b[0m \u001b[0mself\u001b[0m\u001b[1;33m.\u001b[0m\u001b[0mcoverage\u001b[0m\u001b[1;33m(\u001b[0m\u001b[1;33m)\u001b[0m\u001b[1;33m,\u001b[0m\u001b[1;33m\u001b[0m\u001b[1;33m\u001b[0m\u001b[0m\n\u001b[1;32m--> 201\u001b[1;33m             \u001b[1;34m'diversity'\u001b[0m\u001b[1;33m:\u001b[0m \u001b[0mself\u001b[0m\u001b[1;33m.\u001b[0m\u001b[0mdiversity\u001b[0m\u001b[1;33m(\u001b[0m\u001b[1;33m)\u001b[0m\u001b[1;33m,\u001b[0m\u001b[1;33m\u001b[0m\u001b[1;33m\u001b[0m\u001b[0m\n\u001b[0m\u001b[0;32m    202\u001b[0m             \u001b[1;34m'novelty'\u001b[0m\u001b[1;33m:\u001b[0m \u001b[0mself\u001b[0m\u001b[1;33m.\u001b[0m\u001b[0mnovelty\u001b[0m\u001b[1;33m(\u001b[0m\u001b[1;33m)\u001b[0m\u001b[1;33m,\u001b[0m\u001b[1;33m\u001b[0m\u001b[1;33m\u001b[0m\u001b[0m\n\u001b[0;32m    203\u001b[0m             \u001b[1;34m'looHR'\u001b[0m\u001b[1;33m:\u001b[0m \u001b[0mself\u001b[0m\u001b[1;33m.\u001b[0m\u001b[0mLOOHR\u001b[0m\u001b[1;33m(\u001b[0m\u001b[1;33m)\u001b[0m\u001b[1;33m,\u001b[0m\u001b[1;33m\u001b[0m\u001b[1;33m\u001b[0m\u001b[0m\n",
      "\u001b[1;32mD:\\Coding\\DataSciencePortfolio\\ItemRecommender\\Tester.py\u001b[0m in \u001b[0;36mdiversity\u001b[1;34m(self)\u001b[0m\n\u001b[0;32m    270\u001b[0m         \u001b[0mdiversity\u001b[0m \u001b[1;33m=\u001b[0m \u001b[1;36m0\u001b[0m\u001b[1;33m\u001b[0m\u001b[1;33m\u001b[0m\u001b[0m\n\u001b[0;32m    271\u001b[0m         \u001b[1;32mfor\u001b[0m \u001b[0msimilarities\u001b[0m \u001b[1;32min\u001b[0m \u001b[0mself\u001b[0m\u001b[1;33m.\u001b[0m\u001b[0msimilarity\u001b[0m\u001b[1;33m.\u001b[0m\u001b[0mvalues\u001b[0m\u001b[1;33m(\u001b[0m\u001b[1;33m)\u001b[0m\u001b[1;33m:\u001b[0m\u001b[1;33m\u001b[0m\u001b[1;33m\u001b[0m\u001b[0m\n\u001b[1;32m--> 272\u001b[1;33m             \u001b[0mdiversity\u001b[0m \u001b[1;33m+=\u001b[0m \u001b[1;36m1\u001b[0m \u001b[1;33m-\u001b[0m \u001b[0mmean\u001b[0m\u001b[1;33m(\u001b[0m\u001b[0msimilarities\u001b[0m\u001b[1;33m)\u001b[0m\u001b[1;33m\u001b[0m\u001b[1;33m\u001b[0m\u001b[0m\n\u001b[0m\u001b[0;32m    273\u001b[0m         \u001b[1;32mreturn\u001b[0m \u001b[0mdiversity\u001b[0m \u001b[1;33m/\u001b[0m \u001b[0mlen\u001b[0m\u001b[1;33m(\u001b[0m\u001b[0mself\u001b[0m\u001b[1;33m.\u001b[0m\u001b[0msimilarity\u001b[0m\u001b[1;33m)\u001b[0m\u001b[1;33m\u001b[0m\u001b[1;33m\u001b[0m\u001b[0m\n\u001b[0;32m    274\u001b[0m \u001b[1;33m\u001b[0m\u001b[0m\n",
      "\u001b[1;32mC:\\ProgramData\\Anaconda3\\lib\\statistics.py\u001b[0m in \u001b[0;36mmean\u001b[1;34m(data)\u001b[0m\n\u001b[0;32m    313\u001b[0m     \u001b[0mn\u001b[0m \u001b[1;33m=\u001b[0m \u001b[0mlen\u001b[0m\u001b[1;33m(\u001b[0m\u001b[0mdata\u001b[0m\u001b[1;33m)\u001b[0m\u001b[1;33m\u001b[0m\u001b[1;33m\u001b[0m\u001b[0m\n\u001b[0;32m    314\u001b[0m     \u001b[1;32mif\u001b[0m \u001b[0mn\u001b[0m \u001b[1;33m<\u001b[0m \u001b[1;36m1\u001b[0m\u001b[1;33m:\u001b[0m\u001b[1;33m\u001b[0m\u001b[1;33m\u001b[0m\u001b[0m\n\u001b[1;32m--> 315\u001b[1;33m         \u001b[1;32mraise\u001b[0m \u001b[0mStatisticsError\u001b[0m\u001b[1;33m(\u001b[0m\u001b[1;34m'mean requires at least one data point'\u001b[0m\u001b[1;33m)\u001b[0m\u001b[1;33m\u001b[0m\u001b[1;33m\u001b[0m\u001b[0m\n\u001b[0m\u001b[0;32m    316\u001b[0m     \u001b[0mT\u001b[0m\u001b[1;33m,\u001b[0m \u001b[0mtotal\u001b[0m\u001b[1;33m,\u001b[0m \u001b[0mcount\u001b[0m \u001b[1;33m=\u001b[0m \u001b[0m_sum\u001b[0m\u001b[1;33m(\u001b[0m\u001b[0mdata\u001b[0m\u001b[1;33m)\u001b[0m\u001b[1;33m\u001b[0m\u001b[1;33m\u001b[0m\u001b[0m\n\u001b[0;32m    317\u001b[0m     \u001b[1;32massert\u001b[0m \u001b[0mcount\u001b[0m \u001b[1;33m==\u001b[0m \u001b[0mn\u001b[0m\u001b[1;33m\u001b[0m\u001b[1;33m\u001b[0m\u001b[0m\n",
      "\u001b[1;31mStatisticsError\u001b[0m: mean requires at least one data point"
     ]
    }
   ],
   "source": [
    "parameter = 'pred'\n",
    "pRange = ['rand', 'sims', 'norm_sims']\n",
    "\n",
    "tester.runParameterTest(test, param=parameter, pRange=pRange, printResults=False)"
   ]
  },
  {
   "cell_type": "code",
   "execution_count": 12,
   "metadata": {},
   "outputs": [
    {
     "data": {
      "application/vnd.jupyter.widget-view+json": {
       "model_id": "56720bd15d1d43248192dbd3d2c11661",
       "version_major": 2,
       "version_minor": 0
      },
      "text/plain": [
       "Parameter Testing:   0%|          | 0/7 [00:00<?, ?Parameter/s]"
      ]
     },
     "metadata": {},
     "output_type": "display_data"
    },
    {
     "data": {
      "application/vnd.jupyter.widget-view+json": {
       "model_id": "",
       "version_major": 2,
       "version_minor": 0
      },
      "text/plain": [
       "Testing Item-Based CF:   0%|          | 0/706 [00:00<?, ? Users/s]"
      ]
     },
     "metadata": {},
     "output_type": "display_data"
    },
    {
     "data": {
      "application/vnd.jupyter.widget-view+json": {
       "model_id": "",
       "version_major": 2,
       "version_minor": 0
      },
      "text/plain": [
       "Testing User-Based CF:   0%|          | 0/706 [00:00<?, ? Users/s]"
      ]
     },
     "metadata": {},
     "output_type": "display_data"
    },
    {
     "data": {
      "application/vnd.jupyter.widget-view+json": {
       "model_id": "",
       "version_major": 2,
       "version_minor": 0
      },
      "text/plain": [
       "Testing Item-Based KNN:   0%|          | 0/706 [00:00<?, ? Users/s]"
      ]
     },
     "metadata": {},
     "output_type": "display_data"
    },
    {
     "data": {
      "application/vnd.jupyter.widget-view+json": {
       "model_id": "",
       "version_major": 2,
       "version_minor": 0
      },
      "text/plain": [
       "Testing User-Based KNN:   0%|          | 0/706 [00:00<?, ? Users/s]"
      ]
     },
     "metadata": {},
     "output_type": "display_data"
    },
    {
     "data": {
      "application/vnd.jupyter.widget-view+json": {
       "model_id": "",
       "version_major": 2,
       "version_minor": 0
      },
      "text/plain": [
       "Testing Item-Based CF:   0%|          | 0/706 [00:00<?, ? Users/s]"
      ]
     },
     "metadata": {},
     "output_type": "display_data"
    },
    {
     "data": {
      "application/vnd.jupyter.widget-view+json": {
       "model_id": "",
       "version_major": 2,
       "version_minor": 0
      },
      "text/plain": [
       "Testing User-Based CF:   0%|          | 0/706 [00:00<?, ? Users/s]"
      ]
     },
     "metadata": {},
     "output_type": "display_data"
    },
    {
     "data": {
      "application/vnd.jupyter.widget-view+json": {
       "model_id": "",
       "version_major": 2,
       "version_minor": 0
      },
      "text/plain": [
       "Testing Item-Based KNN:   0%|          | 0/706 [00:00<?, ? Users/s]"
      ]
     },
     "metadata": {},
     "output_type": "display_data"
    },
    {
     "data": {
      "application/vnd.jupyter.widget-view+json": {
       "model_id": "",
       "version_major": 2,
       "version_minor": 0
      },
      "text/plain": [
       "Testing User-Based KNN:   0%|          | 0/706 [00:00<?, ? Users/s]"
      ]
     },
     "metadata": {},
     "output_type": "display_data"
    },
    {
     "data": {
      "application/vnd.jupyter.widget-view+json": {
       "model_id": "",
       "version_major": 2,
       "version_minor": 0
      },
      "text/plain": [
       "Testing Item-Based CF:   0%|          | 0/706 [00:00<?, ? Users/s]"
      ]
     },
     "metadata": {},
     "output_type": "display_data"
    },
    {
     "data": {
      "application/vnd.jupyter.widget-view+json": {
       "model_id": "",
       "version_major": 2,
       "version_minor": 0
      },
      "text/plain": [
       "Testing User-Based CF:   0%|          | 0/706 [00:00<?, ? Users/s]"
      ]
     },
     "metadata": {},
     "output_type": "display_data"
    },
    {
     "data": {
      "application/vnd.jupyter.widget-view+json": {
       "model_id": "",
       "version_major": 2,
       "version_minor": 0
      },
      "text/plain": [
       "Testing Item-Based KNN:   0%|          | 0/706 [00:00<?, ? Users/s]"
      ]
     },
     "metadata": {},
     "output_type": "display_data"
    },
    {
     "data": {
      "application/vnd.jupyter.widget-view+json": {
       "model_id": "",
       "version_major": 2,
       "version_minor": 0
      },
      "text/plain": [
       "Testing User-Based KNN:   0%|          | 0/706 [00:00<?, ? Users/s]"
      ]
     },
     "metadata": {},
     "output_type": "display_data"
    },
    {
     "data": {
      "application/vnd.jupyter.widget-view+json": {
       "model_id": "",
       "version_major": 2,
       "version_minor": 0
      },
      "text/plain": [
       "Testing Item-Based CF:   0%|          | 0/706 [00:00<?, ? Users/s]"
      ]
     },
     "metadata": {},
     "output_type": "display_data"
    },
    {
     "data": {
      "application/vnd.jupyter.widget-view+json": {
       "model_id": "",
       "version_major": 2,
       "version_minor": 0
      },
      "text/plain": [
       "Testing User-Based CF:   0%|          | 0/706 [00:00<?, ? Users/s]"
      ]
     },
     "metadata": {},
     "output_type": "display_data"
    },
    {
     "data": {
      "application/vnd.jupyter.widget-view+json": {
       "model_id": "",
       "version_major": 2,
       "version_minor": 0
      },
      "text/plain": [
       "Testing Item-Based KNN:   0%|          | 0/706 [00:00<?, ? Users/s]"
      ]
     },
     "metadata": {},
     "output_type": "display_data"
    },
    {
     "data": {
      "application/vnd.jupyter.widget-view+json": {
       "model_id": "",
       "version_major": 2,
       "version_minor": 0
      },
      "text/plain": [
       "Testing User-Based KNN:   0%|          | 0/706 [00:00<?, ? Users/s]"
      ]
     },
     "metadata": {},
     "output_type": "display_data"
    },
    {
     "data": {
      "application/vnd.jupyter.widget-view+json": {
       "model_id": "",
       "version_major": 2,
       "version_minor": 0
      },
      "text/plain": [
       "Testing Item-Based CF:   0%|          | 0/706 [00:00<?, ? Users/s]"
      ]
     },
     "metadata": {},
     "output_type": "display_data"
    },
    {
     "data": {
      "application/vnd.jupyter.widget-view+json": {
       "model_id": "",
       "version_major": 2,
       "version_minor": 0
      },
      "text/plain": [
       "Testing User-Based CF:   0%|          | 0/706 [00:00<?, ? Users/s]"
      ]
     },
     "metadata": {},
     "output_type": "display_data"
    },
    {
     "data": {
      "application/vnd.jupyter.widget-view+json": {
       "model_id": "",
       "version_major": 2,
       "version_minor": 0
      },
      "text/plain": [
       "Testing Item-Based KNN:   0%|          | 0/706 [00:00<?, ? Users/s]"
      ]
     },
     "metadata": {},
     "output_type": "display_data"
    },
    {
     "data": {
      "application/vnd.jupyter.widget-view+json": {
       "model_id": "",
       "version_major": 2,
       "version_minor": 0
      },
      "text/plain": [
       "Testing User-Based KNN:   0%|          | 0/706 [00:00<?, ? Users/s]"
      ]
     },
     "metadata": {},
     "output_type": "display_data"
    },
    {
     "data": {
      "application/vnd.jupyter.widget-view+json": {
       "model_id": "",
       "version_major": 2,
       "version_minor": 0
      },
      "text/plain": [
       "Testing Item-Based CF:   0%|          | 0/706 [00:00<?, ? Users/s]"
      ]
     },
     "metadata": {},
     "output_type": "display_data"
    },
    {
     "data": {
      "application/vnd.jupyter.widget-view+json": {
       "model_id": "",
       "version_major": 2,
       "version_minor": 0
      },
      "text/plain": [
       "Testing User-Based CF:   0%|          | 0/706 [00:00<?, ? Users/s]"
      ]
     },
     "metadata": {},
     "output_type": "display_data"
    },
    {
     "ename": "ZeroDivisionError",
     "evalue": "division by zero",
     "output_type": "error",
     "traceback": [
      "\u001b[1;31m---------------------------------------------------------------------------\u001b[0m",
      "\u001b[1;31mZeroDivisionError\u001b[0m                         Traceback (most recent call last)",
      "\u001b[1;32m<ipython-input-12-06386ad06683>\u001b[0m in \u001b[0;36m<module>\u001b[1;34m\u001b[0m\n\u001b[0;32m      2\u001b[0m \u001b[0mpRange\u001b[0m \u001b[1;33m=\u001b[0m \u001b[0mnp\u001b[0m\u001b[1;33m.\u001b[0m\u001b[0marange\u001b[0m\u001b[1;33m(\u001b[0m\u001b[1;36m2\u001b[0m\u001b[1;33m,\u001b[0m \u001b[1;36m5.5\u001b[0m\u001b[1;33m,\u001b[0m \u001b[1;36m0.5\u001b[0m\u001b[1;33m)\u001b[0m\u001b[1;33m\u001b[0m\u001b[1;33m\u001b[0m\u001b[0m\n\u001b[0;32m      3\u001b[0m \u001b[1;33m\u001b[0m\u001b[0m\n\u001b[1;32m----> 4\u001b[1;33m \u001b[0mtester\u001b[0m\u001b[1;33m.\u001b[0m\u001b[0mrunParameterTest\u001b[0m\u001b[1;33m(\u001b[0m\u001b[0mtest\u001b[0m\u001b[1;33m,\u001b[0m \u001b[0mparam\u001b[0m\u001b[1;33m=\u001b[0m\u001b[0mparameter\u001b[0m\u001b[1;33m,\u001b[0m \u001b[0mpRange\u001b[0m\u001b[1;33m=\u001b[0m\u001b[0mpRange\u001b[0m\u001b[1;33m,\u001b[0m \u001b[0mprintResults\u001b[0m\u001b[1;33m=\u001b[0m\u001b[1;32mFalse\u001b[0m\u001b[1;33m)\u001b[0m\u001b[1;33m\u001b[0m\u001b[1;33m\u001b[0m\u001b[0m\n\u001b[0m",
      "\u001b[1;32mD:\\Coding\\DataSciencePortfolio\\ItemRecommender\\Tester.py\u001b[0m in \u001b[0;36mrunParameterTest\u001b[1;34m(self, testData, param, pRange, testAlgo, sampleTest, printResults)\u001b[0m\n\u001b[0;32m    426\u001b[0m         \u001b[0mbar\u001b[0m \u001b[1;33m=\u001b[0m \u001b[0mtqdm\u001b[0m\u001b[1;33m(\u001b[0m\u001b[0mpRange\u001b[0m\u001b[1;33m,\u001b[0m \u001b[0mdesc\u001b[0m\u001b[1;33m=\u001b[0m\u001b[1;34m'Parameter Testing'\u001b[0m\u001b[1;33m,\u001b[0m \u001b[0munit\u001b[0m\u001b[1;33m=\u001b[0m\u001b[1;34m'Parameter'\u001b[0m\u001b[1;33m,\u001b[0m \u001b[0mleave\u001b[0m\u001b[1;33m=\u001b[0m\u001b[1;32mFalse\u001b[0m\u001b[1;33m,\u001b[0m \u001b[0mfile\u001b[0m\u001b[1;33m=\u001b[0m\u001b[0msys\u001b[0m\u001b[1;33m.\u001b[0m\u001b[0mstdout\u001b[0m\u001b[1;33m)\u001b[0m\u001b[1;33m\u001b[0m\u001b[1;33m\u001b[0m\u001b[0m\n\u001b[0;32m    427\u001b[0m         \u001b[1;32mfor\u001b[0m \u001b[0mpValue\u001b[0m \u001b[1;32min\u001b[0m \u001b[0mbar\u001b[0m\u001b[1;33m:\u001b[0m\u001b[1;33m\u001b[0m\u001b[1;33m\u001b[0m\u001b[0m\n\u001b[1;32m--> 428\u001b[1;33m             \u001b[0mself\u001b[0m\u001b[1;33m.\u001b[0m\u001b[0mrunBasicTest\u001b[0m\u001b[1;33m(\u001b[0m\u001b[0mtestData\u001b[0m\u001b[1;33m,\u001b[0m \u001b[0mparam\u001b[0m\u001b[1;33m,\u001b[0m \u001b[0mpValue\u001b[0m\u001b[1;33m,\u001b[0m \u001b[0mtestAlgo\u001b[0m\u001b[1;33m,\u001b[0m \u001b[0msampleTest\u001b[0m\u001b[1;33m,\u001b[0m \u001b[0mprintResults\u001b[0m\u001b[1;33m)\u001b[0m\u001b[1;33m\u001b[0m\u001b[1;33m\u001b[0m\u001b[0m\n\u001b[0m\u001b[0;32m    429\u001b[0m \u001b[1;33m\u001b[0m\u001b[0m\n\u001b[0;32m    430\u001b[0m     \u001b[1;32mdef\u001b[0m \u001b[0mrunBasicTest\u001b[0m\u001b[1;33m(\u001b[0m\u001b[0mself\u001b[0m\u001b[1;33m,\u001b[0m \u001b[0mtestData\u001b[0m\u001b[1;33m,\u001b[0m \u001b[0mparam\u001b[0m\u001b[1;33m=\u001b[0m\u001b[1;32mNone\u001b[0m\u001b[1;33m,\u001b[0m \u001b[0mpValue\u001b[0m\u001b[1;33m=\u001b[0m\u001b[1;32mNone\u001b[0m\u001b[1;33m,\u001b[0m \u001b[0mtestAlgo\u001b[0m\u001b[1;33m=\u001b[0m\u001b[1;32mNone\u001b[0m\u001b[1;33m,\u001b[0m \u001b[0msampleTest\u001b[0m\u001b[1;33m=\u001b[0m\u001b[1;32mNone\u001b[0m\u001b[1;33m,\u001b[0m \u001b[0mprintResults\u001b[0m\u001b[1;33m=\u001b[0m\u001b[1;32mFalse\u001b[0m\u001b[1;33m)\u001b[0m\u001b[1;33m:\u001b[0m\u001b[1;33m\u001b[0m\u001b[1;33m\u001b[0m\u001b[0m\n",
      "\u001b[1;32mD:\\Coding\\DataSciencePortfolio\\ItemRecommender\\Tester.py\u001b[0m in \u001b[0;36mrunBasicTest\u001b[1;34m(self, testData, param, pValue, testAlgo, sampleTest, printResults)\u001b[0m\n\u001b[0;32m    462\u001b[0m \u001b[1;33m\u001b[0m\u001b[0m\n\u001b[0;32m    463\u001b[0m             \u001b[0mtotalTime\u001b[0m \u001b[1;33m=\u001b[0m \u001b[0mtime\u001b[0m\u001b[1;33m.\u001b[0m\u001b[0mperf_counter\u001b[0m\u001b[1;33m(\u001b[0m\u001b[1;33m)\u001b[0m \u001b[1;33m-\u001b[0m \u001b[0mt_start\u001b[0m\u001b[1;33m\u001b[0m\u001b[1;33m\u001b[0m\u001b[0m\n\u001b[1;32m--> 464\u001b[1;33m             \u001b[0mself\u001b[0m\u001b[1;33m.\u001b[0m\u001b[0mevaluator\u001b[0m\u001b[1;33m.\u001b[0m\u001b[0mallMetrics\u001b[0m\u001b[1;33m(\u001b[0m\u001b[0mname\u001b[0m\u001b[1;33m=\u001b[0m\u001b[0mnameAlgo\u001b[0m\u001b[1;33m,\u001b[0m \u001b[0mprintResults\u001b[0m\u001b[1;33m=\u001b[0m\u001b[0mprintResults\u001b[0m\u001b[1;33m)\u001b[0m\u001b[1;33m\u001b[0m\u001b[1;33m\u001b[0m\u001b[0m\n\u001b[0m\u001b[0;32m    465\u001b[0m             \u001b[0mself\u001b[0m\u001b[1;33m.\u001b[0m\u001b[0mevaluator\u001b[0m\u001b[1;33m.\u001b[0m\u001b[0mupdateCSV\u001b[0m\u001b[1;33m(\u001b[0m\u001b[0mnameAlgo\u001b[0m\u001b[1;33m,\u001b[0m \u001b[0mtotalTime\u001b[0m\u001b[1;33m,\u001b[0m \u001b[0mparam\u001b[0m\u001b[1;33m,\u001b[0m \u001b[0mpValue\u001b[0m\u001b[1;33m,\u001b[0m \u001b[0mkwargs\u001b[0m\u001b[1;33m)\u001b[0m\u001b[1;33m\u001b[0m\u001b[1;33m\u001b[0m\u001b[0m\n\u001b[0;32m    466\u001b[0m         \u001b[1;32mreturn\u001b[0m\u001b[1;33m\u001b[0m\u001b[1;33m\u001b[0m\u001b[0m\n",
      "\u001b[1;32mD:\\Coding\\DataSciencePortfolio\\ItemRecommender\\Tester.py\u001b[0m in \u001b[0;36mallMetrics\u001b[1;34m(self, normalise, printResults, name, dp)\u001b[0m\n\u001b[0;32m    198\u001b[0m         \u001b[0marHR\u001b[0m \u001b[1;33m=\u001b[0m \u001b[0mself\u001b[0m\u001b[1;33m.\u001b[0m\u001b[0mactualRatingHR\u001b[0m\u001b[1;33m(\u001b[0m\u001b[0mnormalise\u001b[0m\u001b[1;33m=\u001b[0m\u001b[0mnormalise\u001b[0m\u001b[1;33m)\u001b[0m\u001b[1;33m\u001b[0m\u001b[1;33m\u001b[0m\u001b[0m\n\u001b[0;32m    199\u001b[0m         self.metricResults = {\n\u001b[1;32m--> 200\u001b[1;33m             \u001b[1;34m'MAE'\u001b[0m\u001b[1;33m:\u001b[0m \u001b[0mself\u001b[0m\u001b[1;33m.\u001b[0m\u001b[0mMAE\u001b[0m\u001b[1;33m(\u001b[0m\u001b[1;33m)\u001b[0m\u001b[1;33m,\u001b[0m\u001b[1;33m\u001b[0m\u001b[1;33m\u001b[0m\u001b[0m\n\u001b[0m\u001b[0;32m    201\u001b[0m             \u001b[1;34m'RMSE'\u001b[0m\u001b[1;33m:\u001b[0m \u001b[0mself\u001b[0m\u001b[1;33m.\u001b[0m\u001b[0mRMSE\u001b[0m\u001b[1;33m(\u001b[0m\u001b[1;33m)\u001b[0m\u001b[1;33m,\u001b[0m\u001b[1;33m\u001b[0m\u001b[1;33m\u001b[0m\u001b[0m\n\u001b[0;32m    202\u001b[0m             \u001b[1;34m'coverage'\u001b[0m\u001b[1;33m:\u001b[0m \u001b[0mself\u001b[0m\u001b[1;33m.\u001b[0m\u001b[0mcoverage\u001b[0m\u001b[1;33m(\u001b[0m\u001b[1;33m)\u001b[0m\u001b[1;33m,\u001b[0m\u001b[1;33m\u001b[0m\u001b[1;33m\u001b[0m\u001b[0m\n",
      "\u001b[1;32mD:\\Coding\\DataSciencePortfolio\\ItemRecommender\\Tester.py\u001b[0m in \u001b[0;36mMAE\u001b[1;34m(self)\u001b[0m\n\u001b[0;32m    240\u001b[0m             \u001b[0mhits\u001b[0m \u001b[1;33m=\u001b[0m \u001b[0mlist\u001b[0m\u001b[1;33m(\u001b[0m\u001b[0mset\u001b[0m\u001b[1;33m(\u001b[0m\u001b[0mrecommendedMovies\u001b[0m\u001b[1;33m)\u001b[0m\u001b[1;33m.\u001b[0m\u001b[0mintersection\u001b[0m\u001b[1;33m(\u001b[0m\u001b[0mactualRatings\u001b[0m\u001b[1;33m.\u001b[0m\u001b[0mindex\u001b[0m\u001b[1;33m)\u001b[0m\u001b[1;33m)\u001b[0m\u001b[1;33m\u001b[0m\u001b[1;33m\u001b[0m\u001b[0m\n\u001b[0;32m    241\u001b[0m             \u001b[0mMAE\u001b[0m \u001b[1;33m+=\u001b[0m \u001b[0mmean\u001b[0m\u001b[1;33m(\u001b[0m\u001b[0mabs\u001b[0m\u001b[1;33m(\u001b[0m\u001b[0mpredictedRatings\u001b[0m\u001b[1;33m[\u001b[0m\u001b[0mhits\u001b[0m\u001b[1;33m]\u001b[0m \u001b[1;33m-\u001b[0m \u001b[0mactualRatings\u001b[0m\u001b[1;33m[\u001b[0m\u001b[0mhits\u001b[0m\u001b[1;33m]\u001b[0m\u001b[1;33m)\u001b[0m\u001b[1;33m)\u001b[0m \u001b[1;32mif\u001b[0m \u001b[0mhits\u001b[0m \u001b[1;32melse\u001b[0m \u001b[1;36m0\u001b[0m\u001b[1;33m\u001b[0m\u001b[1;33m\u001b[0m\u001b[0m\n\u001b[1;32m--> 242\u001b[1;33m         \u001b[1;32mreturn\u001b[0m \u001b[0mMAE\u001b[0m \u001b[1;33m/\u001b[0m \u001b[0mlen\u001b[0m\u001b[1;33m(\u001b[0m\u001b[0mself\u001b[0m\u001b[1;33m.\u001b[0m\u001b[0mmovies\u001b[0m\u001b[1;33m)\u001b[0m\u001b[1;33m\u001b[0m\u001b[1;33m\u001b[0m\u001b[0m\n\u001b[0m\u001b[0;32m    243\u001b[0m \u001b[1;33m\u001b[0m\u001b[0m\n\u001b[0;32m    244\u001b[0m     \u001b[1;32mdef\u001b[0m \u001b[0mRMSE\u001b[0m\u001b[1;33m(\u001b[0m\u001b[0mself\u001b[0m\u001b[1;33m)\u001b[0m\u001b[1;33m:\u001b[0m\u001b[1;33m\u001b[0m\u001b[1;33m\u001b[0m\u001b[0m\n",
      "\u001b[1;31mZeroDivisionError\u001b[0m: division by zero"
     ]
    }
   ],
   "source": [
    "parameter = 'threshold'\n",
    "pRange = np.arange(2, 5.5, 0.5)\n",
    "\n",
    "tester.runParameterTest(test, param=parameter, pRange=pRange, printResults=False)"
   ]
  },
  {
   "cell_type": "code",
   "execution_count": null,
   "metadata": {},
   "outputs": [],
   "source": [
    "parameter = 'sample'\n",
    "pRange = np.arange(10, 100, 10)\n",
    "\n",
    "tester.runParameterTest(test, testAlgo='Item-Based CF', param=parameter, pRange=pRange, printResults=False)\n",
    "tester.runParameterTest(test, testAlgo='Item-Based KNN', param=parameter, pRange=pRange, printResults=False)\n",
    "tester.runParameterTest(test, testAlgo='User-Based CF', param=parameter, pRange=pRange, printResults=False)\n",
    "tester.runParameterTest(test, testAlgo='User-Based KNN', param=parameter, pRange=pRange, printResults=False)"
   ]
  },
  {
   "cell_type": "code",
   "execution_count": null,
   "metadata": {},
   "outputs": [],
   "source": [
    "parameter = 'sample'\n",
    "pRange = np.arange(100, 6050, 50)\n",
    "\n",
    "tester.runParameterTest(test, testAlgo='Item-Based CF', param=parameter, pRange=pRange, printResults=False)\n",
    "#tester.runParameterTest(test, testAlgo='Item-Based KNN', param=parameter, pRange=pRange, printResults=False)\n",
    "tester.runParameterTest(test, testAlgo='User-Based CF', param=parameter, pRange=pRange, printResults=False)\n",
    "tester.runParameterTest(test, testAlgo='User-Based KNN', param=parameter, pRange=pRange, printResults=False)"
   ]
  },
  {
   "cell_type": "code",
   "execution_count": null,
   "metadata": {},
   "outputs": [],
   "source": [
    "parameter = 'neighbours'\n",
    "pRange = np.arange(10, 100, 10)\n",
    "\n",
    "tester.runParameterTest(test, testAlgo='Item-Based CF', param=parameter, pRange=pRange, printResults=False)\n",
    "tester.runParameterTest(test, testAlgo='Item-Based KNN', param=parameter, pRange=pRange, printResults=False)\n",
    "tester.runParameterTest(test, testAlgo='User-Based CF', param=parameter, pRange=pRange, printResults=False)\n",
    "tester.runParameterTest(test, testAlgo='User-Based KNN', param=parameter, pRange=pRange, printResults=False)"
   ]
  },
  {
   "cell_type": "code",
   "execution_count": null,
   "metadata": {},
   "outputs": [],
   "source": [
    "parameter = 'neighbours'\n",
    "pRange = np.arange(100, len(train.columns), 50)\n",
    "\n",
    "tester.runParameterTest(test, testAlgo='Item-Based CF', param=parameter, pRange=pRange, printResults=False)\n",
    "#tester.runParameterTest(test, testAlgo='Item-Based KNN', param=parameter, pRange=pRange, printResults=False)"
   ]
  },
  {
   "cell_type": "code",
   "execution_count": null,
   "metadata": {},
   "outputs": [],
   "source": [
    "parameter = 'neighbours'\n",
    "pRange = np.arange(100, len(train.index), 200)\n",
    "\n",
    "tester.runParameterTest(test, testAlgo='User-Based CF', param=parameter, pRange=pRange, printResults=False)\n",
    "tester.runParameterTest(test, testAlgo='User-Based KNN', param=parameter, pRange=pRange, printResults=False)"
   ]
  },
  {
   "cell_type": "markdown",
   "metadata": {},
   "source": [
    "## Conclusion"
   ]
  },
  {
   "cell_type": "markdown",
   "metadata": {},
   "source": [
    "- InLine Comments\n",
    "- Discussion\n",
    "- LOO-CV is invalid, update metrics to test validation OR LOO-CV. ReRun basic test for LOO-CV at end.\n",
    "- README file"
   ]
  },
  {
   "cell_type": "markdown",
   "metadata": {},
   "source": []
  }
 ],
 "metadata": {
  "kernelspec": {
   "display_name": "Python 3",
   "language": "python",
   "name": "python3"
  },
  "language_info": {
   "codemirror_mode": {
    "name": "ipython",
    "version": 3
   },
   "file_extension": ".py",
   "mimetype": "text/x-python",
   "name": "python",
   "nbconvert_exporter": "python",
   "pygments_lexer": "ipython3",
   "version": "3.8.8"
  }
 },
 "nbformat": 4,
 "nbformat_minor": 4
}
